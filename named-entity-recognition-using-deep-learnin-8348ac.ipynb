{
 "cells": [
  {
   "cell_type": "markdown",
   "metadata": {
    "papermill": {
     "duration": 0.014028,
     "end_time": "2020-11-17T19:42:46.078078",
     "exception": false,
     "start_time": "2020-11-17T19:42:46.064050",
     "status": "completed"
    },
    "tags": []
   },
   "source": [
    "\n",
    "\n",
    "- geo = Geographical Entity\n",
    "- org = Organization\n",
    "- per = Person\n",
    "- gpe = Geopolitical Entity\n",
    "- tim = Time indicator\n",
    "- art = Artifact\n",
    "- eve = Event\n",
    "- nat = Natural Phenomenon\n"
   ]
  },
  {
   "cell_type": "code",
   "execution_count": 1,
   "metadata": {
    "_cell_guid": "b1076dfc-b9ad-4769-8c92-a6c4dae69d19",
    "_uuid": "8f2839f25d086af736a60e9eeb907d3b93b6e0e5",
    "execution": {
     "iopub.execute_input": "2020-11-17T19:42:46.113475Z",
     "iopub.status.busy": "2020-11-17T19:42:46.112651Z",
     "iopub.status.idle": "2020-11-17T19:42:52.428121Z",
     "shell.execute_reply": "2020-11-17T19:42:52.427518Z"
    },
    "papermill": {
     "duration": 6.336674,
     "end_time": "2020-11-17T19:42:52.428241",
     "exception": false,
     "start_time": "2020-11-17T19:42:46.091567",
     "status": "completed"
    },
    "tags": []
   },
   "outputs": [],
   "source": [
    "# imports\n",
    "import pandas as pd\n",
    "import numpy as np\n",
    "import matplotlib.pyplot as plt\n",
    "from sklearn.model_selection import train_test_split\n",
    "from keras.preprocessing.sequence import pad_sequences\n",
    "from keras.utils import to_categorical\n",
    "from keras.utils.vis_utils import plot_model\n",
    "from numpy.random import seed\n",
    "from itertools import chain\n",
    "from tensorflow.keras import Model,Input\n",
    "from tensorflow.keras.layers import LSTM,Embedding,Dense\n",
    "from tensorflow.keras.layers import TimeDistributed, SpatialDropout1D,Bidirectional\n",
    "\n",
    "plt.style.use('seaborn')"
   ]
  },
  {
   "cell_type": "code",
   "execution_count": 2,
   "metadata": {
    "_cell_guid": "79c7e3d0-c299-4dcb-8224-4455121ee9b0",
    "_uuid": "d629ff2d2480ee46fbb7e2d37f6b5fab8052498a",
    "execution": {
     "iopub.execute_input": "2020-11-17T19:42:52.461261Z",
     "iopub.status.busy": "2020-11-17T19:42:52.460567Z",
     "iopub.status.idle": "2020-11-17T19:42:53.240901Z",
     "shell.execute_reply": "2020-11-17T19:42:53.240366Z"
    },
    "papermill": {
     "duration": 0.798931,
     "end_time": "2020-11-17T19:42:53.241022",
     "exception": false,
     "start_time": "2020-11-17T19:42:52.442091",
     "status": "completed"
    },
    "tags": []
   },
   "outputs": [],
   "source": [
    "# getting the data\n",
    "file = \"../input/entity-annotated-corpus/ner_dataset.csv\"\n",
    "data = pd.read_csv(file, encoding = \"latin1\")\n",
    "\n",
    "# drop the POS column because we dont need it\n",
    "data = data.drop('POS', 1)"
   ]
  },
  {
   "cell_type": "code",
   "execution_count": 3,
   "metadata": {
    "execution": {
     "iopub.execute_input": "2020-11-17T19:42:53.281462Z",
     "iopub.status.busy": "2020-11-17T19:42:53.280372Z",
     "iopub.status.idle": "2020-11-17T19:42:53.290067Z",
     "shell.execute_reply": "2020-11-17T19:42:53.289399Z"
    },
    "papermill": {
     "duration": 0.035285,
     "end_time": "2020-11-17T19:42:53.290180",
     "exception": false,
     "start_time": "2020-11-17T19:42:53.254895",
     "status": "completed"
    },
    "tags": []
   },
   "outputs": [
    {
     "data": {
      "text/html": [
       "<div>\n",
       "<style scoped>\n",
       "    .dataframe tbody tr th:only-of-type {\n",
       "        vertical-align: middle;\n",
       "    }\n",
       "\n",
       "    .dataframe tbody tr th {\n",
       "        vertical-align: top;\n",
       "    }\n",
       "\n",
       "    .dataframe thead th {\n",
       "        text-align: right;\n",
       "    }\n",
       "</style>\n",
       "<table border=\"1\" class=\"dataframe\">\n",
       "  <thead>\n",
       "    <tr style=\"text-align: right;\">\n",
       "      <th></th>\n",
       "      <th>Sentence #</th>\n",
       "      <th>Word</th>\n",
       "      <th>Tag</th>\n",
       "    </tr>\n",
       "  </thead>\n",
       "  <tbody>\n",
       "    <tr>\n",
       "      <th>0</th>\n",
       "      <td>Sentence: 1</td>\n",
       "      <td>Thousands</td>\n",
       "      <td>O</td>\n",
       "    </tr>\n",
       "    <tr>\n",
       "      <th>1</th>\n",
       "      <td>NaN</td>\n",
       "      <td>of</td>\n",
       "      <td>O</td>\n",
       "    </tr>\n",
       "    <tr>\n",
       "      <th>2</th>\n",
       "      <td>NaN</td>\n",
       "      <td>demonstrators</td>\n",
       "      <td>O</td>\n",
       "    </tr>\n",
       "    <tr>\n",
       "      <th>3</th>\n",
       "      <td>NaN</td>\n",
       "      <td>have</td>\n",
       "      <td>O</td>\n",
       "    </tr>\n",
       "    <tr>\n",
       "      <th>4</th>\n",
       "      <td>NaN</td>\n",
       "      <td>marched</td>\n",
       "      <td>O</td>\n",
       "    </tr>\n",
       "  </tbody>\n",
       "</table>\n",
       "</div>"
      ],
      "text/plain": [
       "    Sentence #           Word Tag\n",
       "0  Sentence: 1      Thousands   O\n",
       "1          NaN             of   O\n",
       "2          NaN  demonstrators   O\n",
       "3          NaN           have   O\n",
       "4          NaN        marched   O"
      ]
     },
     "execution_count": 3,
     "metadata": {},
     "output_type": "execute_result"
    }
   ],
   "source": [
    "data.head()"
   ]
  },
  {
   "cell_type": "code",
   "execution_count": 4,
   "metadata": {
    "execution": {
     "iopub.execute_input": "2020-11-17T19:42:53.487326Z",
     "iopub.status.busy": "2020-11-17T19:42:53.486588Z",
     "iopub.status.idle": "2020-11-17T19:42:53.507391Z",
     "shell.execute_reply": "2020-11-17T19:42:53.506730Z"
    },
    "papermill": {
     "duration": 0.202646,
     "end_time": "2020-11-17T19:42:53.507530",
     "exception": false,
     "start_time": "2020-11-17T19:42:53.304884",
     "status": "completed"
    },
    "tags": []
   },
   "outputs": [],
   "source": [
    "# Fill na\n",
    "data = data.fillna(method = 'ffill')"
   ]
  },
  {
   "cell_type": "code",
   "execution_count": 5,
   "metadata": {
    "execution": {
     "iopub.execute_input": "2020-11-17T19:42:53.613201Z",
     "iopub.status.busy": "2020-11-17T19:42:53.612277Z",
     "iopub.status.idle": "2020-11-17T19:42:53.616584Z",
     "shell.execute_reply": "2020-11-17T19:42:53.615852Z"
    },
    "papermill": {
     "duration": 0.094858,
     "end_time": "2020-11-17T19:42:53.616735",
     "exception": false,
     "start_time": "2020-11-17T19:42:53.521877",
     "status": "completed"
    },
    "tags": []
   },
   "outputs": [
    {
     "name": "stdout",
     "output_type": "stream",
     "text": [
      "Total number of unique words in dataset: 35179\n"
     ]
    }
   ],
   "source": [
    "words = list(set(data[\"Word\"].values))\n",
    "words.append(\"ENDPAD\")\n",
    "num_words = len(words)\n",
    "\n",
    "print(f\"Total number of unique words in dataset: {num_words}\")"
   ]
  },
  {
   "cell_type": "code",
   "execution_count": 6,
   "metadata": {
    "execution": {
     "iopub.execute_input": "2020-11-17T19:42:53.682115Z",
     "iopub.status.busy": "2020-11-17T19:42:53.681201Z",
     "iopub.status.idle": "2020-11-17T19:42:53.684405Z",
     "shell.execute_reply": "2020-11-17T19:42:53.684898Z"
    },
    "papermill": {
     "duration": 0.052339,
     "end_time": "2020-11-17T19:42:53.685040",
     "exception": false,
     "start_time": "2020-11-17T19:42:53.632701",
     "status": "completed"
    },
    "tags": []
   },
   "outputs": [
    {
     "name": "stdout",
     "output_type": "stream",
     "text": [
      "List of tags: I-nat, B-art, B-eve, B-per, O, B-nat, B-gpe, I-art, I-org, I-per, B-tim, B-geo, B-org, I-eve, I-geo, I-gpe, I-tim\n",
      "Total Number of tags 17\n"
     ]
    }
   ],
   "source": [
    "tags = list(set(data[\"Tag\"].values))\n",
    "num_tags = len(tags)\n",
    "num_tags\n",
    "print(\"List of tags: \" + ', '.join([tag for tag in tags]))\n",
    "print(f\"Total Number of tags {num_tags}\")"
   ]
  },
  {
   "cell_type": "code",
   "execution_count": 7,
   "metadata": {
    "execution": {
     "iopub.execute_input": "2020-11-17T19:42:53.724976Z",
     "iopub.status.busy": "2020-11-17T19:42:53.724130Z",
     "iopub.status.idle": "2020-11-17T19:42:53.727116Z",
     "shell.execute_reply": "2020-11-17T19:42:53.726566Z"
    },
    "papermill": {
     "duration": 0.026899,
     "end_time": "2020-11-17T19:42:53.727276",
     "exception": false,
     "start_time": "2020-11-17T19:42:53.700377",
     "status": "completed"
    },
    "tags": []
   },
   "outputs": [],
   "source": [
    "class Get_sentence(object):\n",
    "    def __init__(self,data):\n",
    "        self.n_sent = 1\n",
    "        self.data = data\n",
    "        agg_func = lambda s:[(w, t) for w, t in zip(s[\"Word\"].values.tolist(),\n",
    "                                                    s[\"Tag\"].values.tolist())]\n",
    "        self.grouped = self.data.groupby(\"Sentence #\").apply(agg_func)\n",
    "        self.sentences = [s for s in self.grouped]"
   ]
  },
  {
   "cell_type": "code",
   "execution_count": 8,
   "metadata": {
    "execution": {
     "iopub.execute_input": "2020-11-17T19:42:53.785889Z",
     "iopub.status.busy": "2020-11-17T19:42:53.784865Z",
     "iopub.status.idle": "2020-11-17T19:42:57.457741Z",
     "shell.execute_reply": "2020-11-17T19:42:57.457150Z"
    },
    "papermill": {
     "duration": 3.712801,
     "end_time": "2020-11-17T19:42:57.457868",
     "exception": false,
     "start_time": "2020-11-17T19:42:53.745067",
     "status": "completed"
    },
    "tags": []
   },
   "outputs": [
    {
     "data": {
      "text/plain": [
       "[('In', 'O'),\n",
       " ('Beirut', 'B-geo'),\n",
       " (',', 'O'),\n",
       " ('a', 'O'),\n",
       " ('string', 'O'),\n",
       " ('of', 'O'),\n",
       " ('officials', 'O'),\n",
       " ('voiced', 'O'),\n",
       " ('their', 'O'),\n",
       " ('anger', 'O'),\n",
       " (',', 'O'),\n",
       " ('while', 'O'),\n",
       " ('at', 'O'),\n",
       " ('the', 'O'),\n",
       " ('United', 'B-org'),\n",
       " ('Nations', 'I-org'),\n",
       " ('summit', 'O'),\n",
       " ('in', 'O'),\n",
       " ('New', 'B-geo'),\n",
       " ('York', 'I-geo'),\n",
       " (',', 'O'),\n",
       " ('Prime', 'B-per'),\n",
       " ('Minister', 'O'),\n",
       " ('Fouad', 'B-per'),\n",
       " ('Siniora', 'I-per'),\n",
       " ('said', 'O'),\n",
       " ('the', 'O'),\n",
       " ('Lebanese', 'B-gpe'),\n",
       " ('people', 'O'),\n",
       " ('are', 'O'),\n",
       " ('resolute', 'O'),\n",
       " ('in', 'O'),\n",
       " ('preventing', 'O'),\n",
       " ('such', 'O'),\n",
       " ('attempts', 'O'),\n",
       " ('from', 'O'),\n",
       " ('destroying', 'O'),\n",
       " ('their', 'O'),\n",
       " ('spirit', 'O'),\n",
       " ('.', 'O')]"
      ]
     },
     "execution_count": 8,
     "metadata": {},
     "output_type": "execute_result"
    }
   ],
   "source": [
    "getter = Get_sentence(data)\n",
    "sentence = getter.sentences\n",
    "sentence[10]"
   ]
  },
  {
   "cell_type": "code",
   "execution_count": 9,
   "metadata": {
    "execution": {
     "iopub.execute_input": "2020-11-17T19:42:57.495698Z",
     "iopub.status.busy": "2020-11-17T19:42:57.494814Z",
     "iopub.status.idle": "2020-11-17T19:42:57.965125Z",
     "shell.execute_reply": "2020-11-17T19:42:57.964510Z"
    },
    "papermill": {
     "duration": 0.491698,
     "end_time": "2020-11-17T19:42:57.965233",
     "exception": false,
     "start_time": "2020-11-17T19:42:57.473535",
     "status": "completed"
    },
    "tags": []
   },
   "outputs": [
    {
     "data": {
      "image/png": "[encoded data removed]",
      "text/plain": [
       "<Figure size 1008x504 with 1 Axes>"
      ]
     },
     "metadata": {},
     "output_type": "display_data"
    }
   ],
   "source": [
    "plt.figure(figsize=(14,7))\n",
    "plt.hist([len(s) for s in sentence],bins = 50)\n",
    "plt.xlabel(\"Length of Sentences\")\n",
    "plt.show()"
   ]
  },
  {
   "cell_type": "code",
   "execution_count": 10,
   "metadata": {
    "execution": {
     "iopub.execute_input": "2020-11-17T19:42:58.055179Z",
     "iopub.status.busy": "2020-11-17T19:42:58.054491Z",
     "iopub.status.idle": "2020-11-17T19:42:58.287894Z",
     "shell.execute_reply": "2020-11-17T19:42:58.287307Z"
    },
    "papermill": {
     "duration": 0.306397,
     "end_time": "2020-11-17T19:42:58.288004",
     "exception": false,
     "start_time": "2020-11-17T19:42:57.981607",
     "status": "completed"
    },
    "tags": []
   },
   "outputs": [
    {
     "data": {
      "image/png": "[encoded data removed]",
      "text/plain": [
       "<Figure size 1008x504 with 1 Axes>"
      ]
     },
     "metadata": {},
     "output_type": "display_data"
    }
   ],
   "source": [
    "plt.figure(figsize=(14, 7))\n",
    "data.Tag[data.Tag != 'O']\\\n",
    "    .value_counts()\\\n",
    "    .plot\\\n",
    "    .barh();"
   ]
  },
  {
   "cell_type": "code",
   "execution_count": 11,
   "metadata": {
    "execution": {
     "iopub.execute_input": "2020-11-17T19:42:58.340275Z",
     "iopub.status.busy": "2020-11-17T19:42:58.339211Z",
     "iopub.status.idle": "2020-11-17T19:42:58.342633Z",
     "shell.execute_reply": "2020-11-17T19:42:58.342115Z"
    },
    "papermill": {
     "duration": 0.037718,
     "end_time": "2020-11-17T19:42:58.342753",
     "exception": false,
     "start_time": "2020-11-17T19:42:58.305035",
     "status": "completed"
    },
    "tags": []
   },
   "outputs": [],
   "source": [
    "word_idx = {w : i + 1 for i ,w in enumerate(words)}\n",
    "tag_idx =  {t : i for i ,t in enumerate(tags)}"
   ]
  },
  {
   "cell_type": "code",
   "execution_count": 12,
   "metadata": {
    "execution": {
     "iopub.execute_input": "2020-11-17T19:42:58.384101Z",
     "iopub.status.busy": "2020-11-17T19:42:58.382989Z",
     "iopub.status.idle": "2020-11-17T19:42:58.386916Z",
     "shell.execute_reply": "2020-11-17T19:42:58.386304Z"
    },
    "papermill": {
     "duration": 0.026491,
     "end_time": "2020-11-17T19:42:58.387031",
     "exception": false,
     "start_time": "2020-11-17T19:42:58.360540",
     "status": "completed"
    },
    "tags": []
   },
   "outputs": [
    {
     "data": {
      "text/plain": [
       "{'I-nat': 0,\n",
       " 'B-art': 1,\n",
       " 'B-eve': 2,\n",
       " 'B-per': 3,\n",
       " 'O': 4,\n",
       " 'B-nat': 5,\n",
       " 'B-gpe': 6,\n",
       " 'I-art': 7,\n",
       " 'I-org': 8,\n",
       " 'I-per': 9,\n",
       " 'B-tim': 10,\n",
       " 'B-geo': 11,\n",
       " 'B-org': 12,\n",
       " 'I-eve': 13,\n",
       " 'I-geo': 14,\n",
       " 'I-gpe': 15,\n",
       " 'I-tim': 16}"
      ]
     },
     "execution_count": 12,
     "metadata": {},
     "output_type": "execute_result"
    }
   ],
   "source": [
    "tag_idx"
   ]
  },
  {
   "cell_type": "code",
   "execution_count": 13,
   "metadata": {
    "execution": {
     "iopub.execute_input": "2020-11-17T19:42:58.479656Z",
     "iopub.status.busy": "2020-11-17T19:42:58.463143Z",
     "iopub.status.idle": "2020-11-17T19:43:00.186935Z",
     "shell.execute_reply": "2020-11-17T19:43:00.186389Z"
    },
    "papermill": {
     "duration": 1.782078,
     "end_time": "2020-11-17T19:43:00.187061",
     "exception": false,
     "start_time": "2020-11-17T19:42:58.404983",
     "status": "completed"
    },
    "tags": []
   },
   "outputs": [],
   "source": [
    "max_len = 50\n",
    "X = [[word_idx[w[0]] for w in s] for s in sentence]\n",
    "X = pad_sequences(maxlen = max_len, sequences = X, padding = 'post', value = num_words - 1)\n",
    "\n",
    "y = [[tag_idx[w[1]] for w in s] for s in sentence]\n",
    "y = pad_sequences(maxlen = max_len, sequences = y, padding = 'post', value = tag_idx['O'])\n",
    "y = [to_categorical(i, num_classes = num_tags) for i in  y]"
   ]
  },
  {
   "cell_type": "code",
   "execution_count": 14,
   "metadata": {
    "execution": {
     "iopub.execute_input": "2020-11-17T19:43:00.230466Z",
     "iopub.status.busy": "2020-11-17T19:43:00.228949Z",
     "iopub.status.idle": "2020-11-17T19:43:00.253342Z",
     "shell.execute_reply": "2020-11-17T19:43:00.252753Z"
    },
    "papermill": {
     "duration": 0.04666,
     "end_time": "2020-11-17T19:43:00.253468",
     "exception": false,
     "start_time": "2020-11-17T19:43:00.206808",
     "status": "completed"
    },
    "tags": []
   },
   "outputs": [],
   "source": [
    "x_train,x_test,y_train,y_test = train_test_split(X, y,test_size = 0.1, random_state = 1)"
   ]
  },
  {
   "cell_type": "code",
   "execution_count": 15,
   "metadata": {
    "execution": {
     "iopub.execute_input": "2020-11-17T19:43:00.296745Z",
     "iopub.status.busy": "2020-11-17T19:43:00.295780Z",
     "iopub.status.idle": "2020-11-17T19:43:00.799018Z",
     "shell.execute_reply": "2020-11-17T19:43:00.798175Z"
    },
    "papermill": {
     "duration": 0.527968,
     "end_time": "2020-11-17T19:43:00.799191",
     "exception": false,
     "start_time": "2020-11-17T19:43:00.271223",
     "status": "completed"
    },
    "tags": []
   },
   "outputs": [
    {
     "name": "stdout",
     "output_type": "stream",
     "text": [
      "Model: \"functional_1\"\n",
      "_________________________________________________________________\n",
      "Layer (type)                 Output Shape              Param #   \n",
      "=================================================================\n",
      "input_1 (InputLayer)         [(None, 50)]              0         \n",
      "_________________________________________________________________\n",
      "embedding (Embedding)        (None, 50, 50)            1758950   \n",
      "_________________________________________________________________\n",
      "spatial_dropout1d (SpatialDr (None, 50, 50)            0         \n",
      "_________________________________________________________________\n",
      "bidirectional (Bidirectional (None, 50, 200)           120800    \n",
      "_________________________________________________________________\n",
      "time_distributed (TimeDistri (None, 50, 17)            3417      \n",
      "=================================================================\n",
      "Total params: 1,883,167\n",
      "Trainable params: 1,883,167\n",
      "Non-trainable params: 0\n",
      "_________________________________________________________________\n"
     ]
    }
   ],
   "source": [
    "input_word = Input(shape = (max_len,))\n",
    "model = Embedding(input_dim = num_words, output_dim = max_len, input_length = max_len)(input_word)\n",
    "model = SpatialDropout1D(0.1)(model)\n",
    "model = Bidirectional(LSTM(units = 100,return_sequences = True, recurrent_dropout = 0.1))(model)\n",
    "out = TimeDistributed(Dense(num_tags,activation = 'softmax'))(model)\n",
    "model = Model(input_word,out)\n",
    "\n",
    "model.compile(optimizer = 'adam',loss = 'categorical_crossentropy',metrics = ['accuracy'])\n",
    "model.summary()"
   ]
  },
  {
   "cell_type": "code",
   "execution_count": 16,
   "metadata": {
    "execution": {
     "iopub.execute_input": "2020-11-17T19:43:00.841829Z",
     "iopub.status.busy": "2020-11-17T19:43:00.841051Z",
     "iopub.status.idle": "2020-11-17T19:43:01.365522Z",
     "shell.execute_reply": "2020-11-17T19:43:01.364876Z"
    },
    "papermill": {
     "duration": 0.547333,
     "end_time": "2020-11-17T19:43:01.365648",
     "exception": false,
     "start_time": "2020-11-17T19:43:00.818315",
     "status": "completed"
    },
    "tags": []
   },
   "outputs": [
    {
     "data": {
      "image/png": "[encoded data removed]",
      "text/plain": [
       "<IPython.core.display.Image object>"
      ]
     },
     "execution_count": 16,
     "metadata": {},
     "output_type": "execute_result"
    }
   ],
   "source": [
    "plot_model(model, show_shapes = True)"
   ]
  },
  {
   "cell_type": "code",
   "execution_count": 17,
   "metadata": {
    "execution": {
     "iopub.execute_input": "2020-11-17T19:43:01.423732Z",
     "iopub.status.busy": "2020-11-17T19:43:01.422554Z",
     "iopub.status.idle": "2020-11-17T19:46:27.124831Z",
     "shell.execute_reply": "2020-11-17T19:46:27.124107Z"
    },
    "papermill": {
     "duration": 205.738912,
     "end_time": "2020-11-17T19:46:27.124981",
     "exception": false,
     "start_time": "2020-11-17T19:43:01.386069",
     "status": "completed"
    },
    "tags": []
   },
   "outputs": [
    {
     "name": "stdout",
     "output_type": "stream",
     "text": [
      "Epoch 1/3\n",
      "540/540 [==============================] - 67s 124ms/step - loss: 0.2671 - accuracy: 0.9432 - val_loss: 0.1182 - val_accuracy: 0.9665\n",
      "Epoch 2/3\n",
      "540/540 [==============================] - 67s 124ms/step - loss: 0.0788 - accuracy: 0.9782 - val_loss: 0.0596 - val_accuracy: 0.9824\n",
      "Epoch 3/3\n",
      "540/540 [==============================] - 67s 124ms/step - loss: 0.0479 - accuracy: 0.9860 - val_loss: 0.0515 - val_accuracy: 0.9844\n"
     ]
    },
    {
     "data": {
      "text/plain": [
       "<tensorflow.python.keras.callbacks.History at 0x7f03fe4920d0>"
      ]
     },
     "execution_count": 17,
     "metadata": {},
     "output_type": "execute_result"
    }
   ],
   "source": [
    "model.fit(x_train, np.array(y_train), batch_size = 64, verbose = 1, epochs = 3, validation_split = 0.2)"
   ]
  },
  {
   "cell_type": "code",
   "execution_count": 18,
   "metadata": {
    "execution": {
     "iopub.execute_input": "2020-11-17T19:46:28.077233Z",
     "iopub.status.busy": "2020-11-17T19:46:28.076599Z",
     "iopub.status.idle": "2020-11-17T19:46:30.148752Z",
     "shell.execute_reply": "2020-11-17T19:46:30.148035Z"
    },
    "papermill": {
     "duration": 2.548077,
     "end_time": "2020-11-17T19:46:30.148890",
     "exception": false,
     "start_time": "2020-11-17T19:46:27.600813",
     "status": "completed"
    },
    "tags": []
   },
   "outputs": [
    {
     "name": "stdout",
     "output_type": "stream",
     "text": [
      "150/150 [==============================] - 2s 13ms/step - loss: 0.0537 - accuracy: 0.9841\n"
     ]
    },
    {
     "data": {
      "text/plain": [
       "[0.053686127066612244, 0.9840950965881348]"
      ]
     },
     "execution_count": 18,
     "metadata": {},
     "output_type": "execute_result"
    }
   ],
   "source": [
    "model.evaluate(x_test, np.array(y_test))"
   ]
  },
  {
   "cell_type": "code",
   "execution_count": 19,
   "metadata": {
    "execution": {
     "iopub.execute_input": "2020-11-17T19:46:31.220283Z",
     "iopub.status.busy": "2020-11-17T19:46:31.219391Z",
     "iopub.status.idle": "2020-11-17T19:46:31.702113Z",
     "shell.execute_reply": "2020-11-17T19:46:31.700720Z"
    },
    "papermill": {
     "duration": 0.977725,
     "end_time": "2020-11-17T19:46:31.702326",
     "exception": false,
     "start_time": "2020-11-17T19:46:30.724601",
     "status": "completed"
    },
    "tags": []
   },
   "outputs": [
    {
     "name": "stdout",
     "output_type": "stream",
     "text": [
      "Word                True                \tPred\n",
      "\n",
      "-------------------------------------------------------\n",
      "Iran                B-geo               \tB-geo\n",
      "'s                  O                   \tO\n",
      "influential         O                   \tO\n",
      "former              O                   \tO\n",
      "president           O                   \tO\n",
      ",                   O                   \tO\n",
      "Akbar               B-org               \tB-per\n",
      "Hashemi             I-org               \tI-per\n",
      "Rafsanjani          I-org               \tI-per\n",
      ",                   O                   \tO\n",
      "has                 O                   \tO\n",
      "praised             O                   \tO\n",
      "the                 O                   \tO\n",
      "late                O                   \tO\n",
      "Pope                O                   \tO\n",
      "John                B-per               \tB-per\n",
      "Paul                I-per               \tI-per\n",
      "II                  I-per               \tI-per\n",
      "as                  O                   \tO\n",
      "a                   O                   \tO\n",
      "man                 O                   \tO\n",
      "of                  O                   \tO\n",
      "peace               O                   \tO\n",
      "and                 O                   \tO\n",
      "offered             O                   \tO\n",
      "his                 O                   \tO\n",
      "condolences         O                   \tO\n",
      "to                  O                   \tO\n",
      "the                 O                   \tO\n",
      "world               O                   \tO\n",
      "'s                  O                   \tO\n",
      "Christians          O                   \tO\n",
      "on                  O                   \tO\n",
      "the                 O                   \tO\n",
      "loss                O                   \tO\n",
      "of                  O                   \tO\n",
      "the                 O                   \tO\n",
      "Roman               B-org               \tB-per\n",
      "Catholic            I-org               \tI-org\n",
      "leader              O                   \tO\n",
      ".                   O                   \tO\n",
      "organs              O                   \tO\n",
      "organs              O                   \tO\n",
      "organs              O                   \tO\n",
      "organs              O                   \tO\n",
      "organs              O                   \tO\n",
      "organs              O                   \tO\n",
      "organs              O                   \tO\n",
      "organs              O                   \tO\n",
      "organs              O                   \tO\n"
     ]
    }
   ],
   "source": [
    "rand_sent = np.random.randint(0, x_test.shape[0]) # get a random sentense\n",
    "p = model.predict(np.array([x_test[rand_sent]]))\n",
    "p = np.argmax(p, axis = -1)\n",
    "\n",
    "y_true = np.argmax(np.array(y_test), axis = -1)[rand_sent] # get actual tags for random sentense\n",
    "\n",
    "print(\"{:20}{:20}\\t{}\\n\".format(\"Word\", \"True\", \"Pred\"))\n",
    "print(\"-\" * 55)\n",
    "\n",
    "for (w, t, pred) in zip(x_test[rand_sent], y_true, p[0]):\n",
    "    print(\"{:20}{:20}\\t{}\".format(words[w - 1], tags[t], tags[pred]))"
   ]
  },
  {
   "cell_type": "code",
   "execution_count": 20,
   "metadata": {
    "execution": {
     "iopub.execute_input": "2020-11-17T19:46:32.774916Z",
     "iopub.status.busy": "2020-11-17T19:46:32.773703Z",
     "iopub.status.idle": "2020-11-17T19:46:32.777727Z",
     "shell.execute_reply": "2020-11-17T19:46:32.776751Z"
    },
    "papermill": {
     "duration": 0.513798,
     "end_time": "2020-11-17T19:46:32.777880",
     "exception": false,
     "start_time": "2020-11-17T19:46:32.264082",
     "status": "completed"
    },
    "tags": []
   },
   "outputs": [],
   "source": [
    "def create_test_input_from_text(text):\n",
    "    word_list = text.split(\" \")\n",
    "    x_new = []\n",
    "    for word in word_list:\n",
    "        x_new.append(word_idx[word])\n",
    "        \n",
    "    p = model.predict(np.array([x_new]))\n",
    "    p = np.argmax(p, axis = -1)\n",
    "    print(\"{:20}\\t{}\\n\".format(\"Word\", \"Prediction\"))\n",
    "    print(\"-\" * 35)\n",
    "\n",
    "    for (w, pred) in zip(range(len(x_new)), p[0]):\n",
    "        print(\"{:20}\\t{}\".format(word_list[w], tags[pred]))"
   ]
  },
  {
   "cell_type": "code",
   "execution_count": 21,
   "metadata": {
    "execution": {
     "iopub.execute_input": "2020-11-17T19:46:33.790696Z",
     "iopub.status.busy": "2020-11-17T19:46:33.789884Z",
     "iopub.status.idle": "2020-11-17T19:46:34.234242Z",
     "shell.execute_reply": "2020-11-17T19:46:34.233339Z"
    },
    "papermill": {
     "duration": 0.946943,
     "end_time": "2020-11-17T19:46:34.234408",
     "exception": false,
     "start_time": "2020-11-17T19:46:33.287465",
     "status": "completed"
    },
    "tags": []
   },
   "outputs": [
    {
     "name": "stdout",
     "output_type": "stream",
     "text": [
      "Word                \tPrediction\n",
      "\n",
      "-----------------------------------\n",
      "the                 \tO\n",
      "weather             \tO\n",
      "in                  \tO\n",
      "London              \tB-geo\n",
      "is                  \tO\n",
      "very                \tO\n",
      "hot                 \tO\n"
     ]
    }
   ],
   "source": [
    "\n",
    "test_inputs = \"the weather in London is very hot\"\n",
    "create_test_input_from_text(test_inputs)"
   ]
  },
  {
   "cell_type": "code",
   "execution_count": 22,
   "metadata": {
    "execution": {
     "iopub.execute_input": "2020-11-17T19:46:35.225792Z",
     "iopub.status.busy": "2020-11-17T19:46:35.224976Z",
     "iopub.status.idle": "2020-11-17T19:46:35.269534Z",
     "shell.execute_reply": "2020-11-17T19:46:35.268546Z"
    },
    "papermill": {
     "duration": 0.537026,
     "end_time": "2020-11-17T19:46:35.269726",
     "exception": false,
     "start_time": "2020-11-17T19:46:34.732700",
     "status": "completed"
    },
    "tags": []
   },
   "outputs": [
    {
     "name": "stdout",
     "output_type": "stream",
     "text": [
      "Word                \tPrediction\n",
      "\n",
      "-----------------------------------\n",
      "my                  \tO\n",
      "friend              \tO\n",
      "Mohammed            \tB-per\n",
      "is                  \tO\n",
      "travelling          \tB-geo\n",
      "to                  \tO\n",
      "Oman                \tB-geo\n"
     ]
    }
   ],
   "source": [
    "\n",
    "test_inputs = \"my friend Mohammed is travelling to Oman\"\n",
    "create_test_input_from_text(test_inputs)"
   ]
  },
  {
   "cell_type": "code",
   "execution_count": null,
   "metadata": {
    "papermill": {
     "duration": 0.497179,
     "end_time": "2020-11-17T19:46:36.258565",
     "exception": false,
     "start_time": "2020-11-17T19:46:35.761386",
     "status": "completed"
    },
    "tags": []
   },
   "outputs": [],
   "source": []
  }
 ],
 "metadata": {
  "kernelspec": {
   "display_name": "Python 3",
   "language": "python",
   "name": "python3"
  },
  "language_info": {
   "codemirror_mode": {
    "name": "ipython",
    "version": 3
   },
   "file_extension": ".py",
   "mimetype": "text/x-python",
   "name": "python",
   "nbconvert_exporter": "python",
   "pygments_lexer": "ipython3",
   "version": "3.7.6"
  },
  "papermill": {
   "duration": 235.026775,
   "end_time": "2020-11-17T19:46:36.854931",
   "environment_variables": {},
   "exception": null,
   "input_path": "__notebook__.ipynb",
   "output_path": "__notebook__.ipynb",
   "parameters": {},
   "start_time": "2020-11-17T19:42:41.828156",
   "version": "2.1.0"
  }
 },
 "nbformat": 4,
 "nbformat_minor": 4
}
