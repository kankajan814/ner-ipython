{
 "cells": [
  {
   "cell_type": "code",
   "execution_count": 1,
   "metadata": {
    "_uuid": "5853838bdcd07aeccb2efa859bbf678ba16d810a"
   },
   "outputs": [],
   "source": [
    "import pandas as pd\n",
    "import spacy\n",
    "import networkx as nx\n",
    "from itertools import combinations\n",
    "from collections import defaultdict\n",
    "import operator\n",
    "import matplotlib.pyplot as plt\n",
    "import numpy as np\n",
    "# from math import log"
   ]
  },
  {
   "cell_type": "code",
   "execution_count": 2,
   "metadata": {
    "_uuid": "c091edb0cda580d66247062f72c4220a19ec79d3"
   },
   "outputs": [],
   "source": [
    "def coocurrence(*inputs):\n",
    "    com = defaultdict(int)\n",
    "    \n",
    "    for named_entities in inputs:\n",
    "        # Build co-occurrence matrix\n",
    "        for w1, w2 in combinations(sorted(named_entities), 2):\n",
    "            com[w1, w2] += 1\n",
    "            com[w2, w1] += 1  #Including both directions\n",
    "\n",
    "    result = defaultdict(dict)\n",
    "    for (w1, w2), count in com.items():\n",
    "        if w1 != w2:\n",
    "            result[w1][w2] = {'weight': count}\n",
    "    return result"
   ]
  },
  {
   "cell_type": "code",
   "execution_count": 3,
   "metadata": {
    "_uuid": "517cb117c211633b4a8fd840272c9f4517c161f8"
   },
   "outputs": [
    {
     "data": {
      "text/plain": [
       "defaultdict(dict,\n",
       "            {'a': {'b': {'weight': 2}, 'c': {'weight': 3}, 'd': {'weight': 7}},\n",
       "             'b': {'a': {'weight': 2}, 'c': {'weight': 2}, 'd': {'weight': 5}},\n",
       "             'c': {'a': {'weight': 3}, 'b': {'weight': 2}, 'd': {'weight': 6}},\n",
       "             'd': {'a': {'weight': 7},\n",
       "              'b': {'weight': 5},\n",
       "              'c': {'weight': 6}}})"
      ]
     },
     "execution_count": 3,
     "metadata": {},
     "output_type": "execute_result"
    }
   ],
   "source": [
    "# Example coocurrence.\n",
    "# Originally d is not a key here (since included in previous coocurrences)\n",
    "# Altered to include ALL now, seems to make difference for my methodology below\n",
    "\n",
    "coocurrence('abcddc', 'bddad', 'cdda')"
   ]
  },
  {
   "cell_type": "code",
   "execution_count": 4,
   "metadata": {
    "_uuid": "0595d3b04a0263be87dffee8f4d24b5a911f1395"
   },
   "outputs": [
    {
     "data": {
      "text/html": [
       "<div>\n",
       "<style scoped>\n",
       "    .dataframe tbody tr th:only-of-type {\n",
       "        vertical-align: middle;\n",
       "    }\n",
       "\n",
       "    .dataframe tbody tr th {\n",
       "        vertical-align: top;\n",
       "    }\n",
       "\n",
       "    .dataframe thead th {\n",
       "        text-align: right;\n",
       "    }\n",
       "</style>\n",
       "<table border=\"1\" class=\"dataframe\">\n",
       "  <thead>\n",
       "    <tr style=\"text-align: right;\">\n",
       "      <th></th>\n",
       "      <th>snopes_page</th>\n",
       "      <th>topic</th>\n",
       "      <th>claim</th>\n",
       "      <th>claim_label</th>\n",
       "      <th>date_published</th>\n",
       "      <th>date_updated</th>\n",
       "      <th>page_url</th>\n",
       "      <th>page_is_example</th>\n",
       "      <th>page_is_image_credit</th>\n",
       "      <th>page_is_archived</th>\n",
       "      <th>page_is_first_citation</th>\n",
       "      <th>tags</th>\n",
       "    </tr>\n",
       "  </thead>\n",
       "  <tbody>\n",
       "    <tr>\n",
       "      <th>0</th>\n",
       "      <td>http://www.snopes.com/georgia-bans-muslim-cult...</td>\n",
       "      <td>politics</td>\n",
       "      <td>Georgia recently became the first U.S. state t...</td>\n",
       "      <td>false</td>\n",
       "      <td>Nov 17th, 2016</td>\n",
       "      <td>Mar 20th, 2017</td>\n",
       "      <td>http://www.legis.ga.gov/Legislation/en-US/disp...</td>\n",
       "      <td>False</td>\n",
       "      <td>False</td>\n",
       "      <td>False</td>\n",
       "      <td>True</td>\n",
       "      <td>NaN</td>\n",
       "    </tr>\n",
       "    <tr>\n",
       "      <th>1</th>\n",
       "      <td>http://www.snopes.com/georgia-bans-muslim-cult...</td>\n",
       "      <td>politics</td>\n",
       "      <td>Georgia recently became the first U.S. state t...</td>\n",
       "      <td>false</td>\n",
       "      <td>Nov 17th, 2016</td>\n",
       "      <td>Mar 20th, 2017</td>\n",
       "      <td>http://arabsinamerica.unc.edu/identity/veiling...</td>\n",
       "      <td>False</td>\n",
       "      <td>False</td>\n",
       "      <td>False</td>\n",
       "      <td>False</td>\n",
       "      <td>NaN</td>\n",
       "    </tr>\n",
       "  </tbody>\n",
       "</table>\n",
       "</div>"
      ],
      "text/plain": [
       "                                         snopes_page ...  tags\n",
       "0  http://www.snopes.com/georgia-bans-muslim-cult... ...   NaN\n",
       "1  http://www.snopes.com/georgia-bans-muslim-cult... ...   NaN\n",
       "\n",
       "[2 rows x 12 columns]"
      ]
     },
     "execution_count": 4,
     "metadata": {},
     "output_type": "execute_result"
    }
   ],
   "source": [
    "# check out the data\n",
    "data = pd.read_csv('../input/snopes.csv')\n",
    "data.head(2)"
   ]
  },
  {
   "cell_type": "code",
   "execution_count": 5,
   "metadata": {
    "_uuid": "fb7d9a007c9ce09cb783323778fc0220c68dc20a"
   },
   "outputs": [],
   "source": [
    "# Could keep in dataframe format? \n",
    "# Can make use of other fields for analysis/graph, since not a huge dataset"
   ]
  },
  {
   "cell_type": "code",
   "execution_count": 6,
   "metadata": {
    "_uuid": "d2a4e495e51b374006883cbae4984c77f585f79e"
   },
   "outputs": [],
   "source": [
    "# drop duplicate claims (and unneccesary columns?)\n",
    "data.drop_duplicates(subset='claim', inplace=True)\n",
    "\n",
    "# remove 'examples' (Some odd artifacts that messed with analysis)\n",
    "data = data.replace({'Example\\(s\\)': ''}, regex=True)\n",
    "data = data.replace({'\\s+': ' '}, regex=True)"
   ]
  },
  {
   "cell_type": "code",
   "execution_count": 7,
   "metadata": {
    "_uuid": "52a9315244c933bc63699ee953d66b7f3e453454"
   },
   "outputs": [
    {
     "name": "stdout",
     "output_type": "stream",
     "text": [
      "Number of claims:  3122\n"
     ]
    }
   ],
   "source": [
    "# remove duplicate claims (Not really needed since dropped already)\n",
    "claims = data.claim.unique()\n",
    "\n",
    "# make sure it's all strings \n",
    "# added lower and whitespace strip just in case\n",
    "# claims = [str(claim).lower().strip() for claim in claims]\n",
    "# Turns out this ruins it... and reduced most docs to few claims for some reason\n",
    "\n",
    "# NER list we'll use - Perhaps could be expanded?\n",
    "nlp = spacy.load('en_core_web_sm')\n",
    "\n",
    "# intialize claim counter & lists for our entities\n",
    "coocur_edges = {}\n",
    "\n",
    "print('Number of claims: ', len(claims))"
   ]
  },
  {
   "cell_type": "code",
   "execution_count": 8,
   "metadata": {
    "_uuid": "9bc6de66c72563977dacd8419c18245ecf14baed"
   },
   "outputs": [
    {
     "name": "stdout",
     "output_type": "stream",
     "text": [
      "Georgia recently became the first U.S. state to \"ban Muslim culture.\"\n",
      "[Georgia, first, U.S., Muslim]\n",
      "\n",
      "\n",
      "An Image depicts a fatal collision involving a Chevy Suburban that recklessly merged ahead of a tractor-trailer, resulting in the death of an infant. See \n",
      "[Chevy, Suburban]\n",
      "\n",
      "\n",
      "A special property of the equinox allows eggs (or brooms) to be balanced on their ends that day. See \n",
      "[that day]\n",
      "\n",
      "\n",
      "Sophia Stewart won a large judgment in a copyright infringement suit over authorship of the film The Matrix. See \n",
      "[Sophia Stewart, Matrix]\n",
      "\n",
      "\n",
      "Images show several large topiary cats created by a retiree and artist named John Brooker.\n",
      "[John Brooker]\n",
      "\n",
      "\n"
     ]
    }
   ],
   "source": [
    "# Lets look at the first few claims, along with the ents identified\n",
    "\n",
    "for doc in nlp.pipe(claims[:5]):\n",
    "    print(doc)\n",
    "    print(list(doc.ents))\n",
    "    print('\\n')"
   ]
  },
  {
   "cell_type": "code",
   "execution_count": 9,
   "metadata": {
    "_uuid": "a609e748253f689dfa22809639e40627af390968"
   },
   "outputs": [],
   "source": [
    "# Separating this lengthy step, and saving result as a list rather than generator\n",
    "# (Size isnt too big, and saves a lot of time when reused later)\n",
    "\n",
    "# Spacy seems to have error at 3k doc mark? \n",
    "# Related to this maybe? https://github.com/explosion/spaCy/issues/1927\n",
    "# Continuing on with the first 3000 of 3122 for now\n",
    "\n",
    "corpus = list(nlp.pipe(claims[:3000]))"
   ]
  },
  {
   "cell_type": "code",
   "execution_count": 10,
   "metadata": {
    "_uuid": "d49a101a374d4a04a4fc7657cc8da9a4c95ef00a"
   },
   "outputs": [
    {
     "name": "stdout",
     "output_type": "stream",
     "text": [
      "Number of distinct entities:  2730\n"
     ]
    }
   ],
   "source": [
    "# Looking at number of times each ent appears in the total corpus\n",
    "# nb. ents all appear as Spacy tokens, hence needing to cast as str\n",
    "\n",
    "all_ents = defaultdict(int)\n",
    "\n",
    "for i, doc in enumerate(corpus):\n",
    "    #print(i,doc)\n",
    "    for ent in doc.ents:\n",
    "        all_ents[str(ent)] += 1\n",
    "        \n",
    "print('Number of distinct entities: ', len(all_ents))"
   ]
  },
  {
   "cell_type": "code",
   "execution_count": 11,
   "metadata": {
    "_uuid": "ca6cf21daf5ee334c7d5513cb976d527df85c03e"
   },
   "outputs": [
    {
     "data": {
      "text/plain": [
       "[('Donald Trump', 302),\n",
       " ('Hillary Clinton', 178),\n",
       " ('Obama', 145),\n",
       " ('U.S.', 94),\n",
       " ('2016', 74),\n",
       " ('Trump', 65),\n",
       " ('Muslim', 58),\n",
       " ('Bernie Sanders', 49),\n",
       " ('Facebook', 47),\n",
       " (\"Donald Trump's\", 46),\n",
       " ('the United States', 45),\n",
       " ('first', 37),\n",
       " ('two', 37),\n",
       " ('Republican', 37),\n",
       " ('Muslims', 36),\n",
       " ('American', 35),\n",
       " ('Americans', 33),\n",
       " ('Photograph', 31),\n",
       " ('America', 30),\n",
       " ('Russian', 29)]"
      ]
     },
     "execution_count": 11,
     "metadata": {},
     "output_type": "execute_result"
    }
   ],
   "source": [
    "# Most popular ents\n",
    "\n",
    "sorted_ents = sorted(all_ents.items(), key=operator.itemgetter(1), reverse=True)\n",
    "sorted_ents[:20]"
   ]
  },
  {
   "cell_type": "code",
   "execution_count": 12,
   "metadata": {
    "_uuid": "dbaa62ff9b1d0b1112f0a0020d94160d5a8af153"
   },
   "outputs": [
    {
     "name": "stdout",
     "output_type": "stream",
     "text": [
      "Number of ents that appear at least twice:  681\n"
     ]
    }
   ],
   "source": [
    "# Number of ents that appear at least twice\n",
    "\n",
    "multi_ents = [x for x in sorted_ents if x[1] > 1]\n",
    "\n",
    "print('Number of ents that appear at least twice: ', len(multi_ents))"
   ]
  },
  {
   "cell_type": "code",
   "execution_count": 13,
   "metadata": {
    "_uuid": "eeefad7b4e419e015b0cbb41c90cca3e97b306ca"
   },
   "outputs": [
    {
     "data": {
      "image/png": "[encoded data removed]",
      "text/plain": [
       "<Figure size 432x288 with 1 Axes>"
      ]
     },
     "metadata": {},
     "output_type": "display_data"
    }
   ],
   "source": [
    "# How many ents appear per claim?\n",
    "\n",
    "ents_in_claim = [len(doc.ents) for doc in corpus]\n",
    "\n",
    "plt.hist(ents_in_claim, \n",
    "         rwidth=0.9, \n",
    "         bins=np.arange(max(ents_in_claim)+2)-0.5)  \n",
    "        # Futzing with bins just to fix column alignment - not really necessary\n",
    "plt.title('Entities per claim')\n",
    "plt.show()"
   ]
  },
  {
   "cell_type": "code",
   "execution_count": 14,
   "metadata": {
    "_uuid": "b50950168d7ec79feb3ea3736155f4f21afb82ab"
   },
   "outputs": [
    {
     "data": {
      "text/plain": [
       "[['Georgia', 'first', 'U.S.', 'Muslim'],\n",
       " ['Georgia', 'first', 'U.S.', 'Muslim'],\n",
       " ['Chevy', 'Suburban'],\n",
       " ['that day'],\n",
       " ['that day'],\n",
       " ['Sophia Stewart', 'Matrix'],\n",
       " ['John Brooker'],\n",
       " ['John Brooker']]"
      ]
     },
     "execution_count": 14,
     "metadata": {},
     "output_type": "execute_result"
    }
   ],
   "source": [
    "# Listing claims as a list of their entities\n",
    "\n",
    "claim_ents = []\n",
    "for i, doc in enumerate(nlp.pipe(claims[:5])):\n",
    "    string_ents = list(map(str, doc.ents))\n",
    "    claim_ents.append(string_ents)\n",
    "    # Doubling some up to fake/force coocurrence\n",
    "    if i%2==0:\n",
    "        claim_ents.append(string_ents)  \n",
    "claim_ents\n",
    "\n",
    "# Could do as a one line list comprehension, though maybe not as readable:\n",
    "# claim_ents = [list(map(str, doc.ents)) for doc in nlp.pipe(claims[:10]*2)]"
   ]
  },
  {
   "cell_type": "code",
   "execution_count": 15,
   "metadata": {
    "_uuid": "94ab3010c24e72ac4561cc6782877f7071646e1f"
   },
   "outputs": [
    {
     "data": {
      "text/plain": [
       "[['Georgia', 'first', 'U.S.', 'Muslim'],\n",
       " ['Georgia', 'first', 'U.S.', 'Muslim'],\n",
       " ['Chevy', 'Suburban'],\n",
       " ['Sophia Stewart', 'Matrix']]"
      ]
     },
     "execution_count": 15,
     "metadata": {},
     "output_type": "execute_result"
    }
   ],
   "source": [
    "# Can filter out claims with only 1 ent (nothing to coocur with)\n",
    "\n",
    "multi_ent_claims = [c for c in claim_ents if len(c)>1]\n",
    "# single_ent_claims = [c for c in claim_ents if len(c)==1]\n",
    "# no_ent_claims = [c for c in claim_ents if len(c)==0]\n",
    "\n",
    "multi_ent_claims"
   ]
  },
  {
   "cell_type": "code",
   "execution_count": 16,
   "metadata": {
    "_uuid": "dd2844a68696c0a83f92b25cecc1da293b7ccd0b"
   },
   "outputs": [
    {
     "data": {
      "text/plain": [
       "defaultdict(dict,\n",
       "            {'Georgia': {'Muslim': {'weight': 2},\n",
       "              'U.S.': {'weight': 2},\n",
       "              'first': {'weight': 2}},\n",
       "             'Muslim': {'Georgia': {'weight': 2},\n",
       "              'U.S.': {'weight': 2},\n",
       "              'first': {'weight': 2}},\n",
       "             'U.S.': {'Georgia': {'weight': 2},\n",
       "              'Muslim': {'weight': 2},\n",
       "              'first': {'weight': 2}},\n",
       "             'first': {'Georgia': {'weight': 2},\n",
       "              'Muslim': {'weight': 2},\n",
       "              'U.S.': {'weight': 2}},\n",
       "             'Chevy': {'Suburban': {'weight': 1}},\n",
       "             'Suburban': {'Chevy': {'weight': 1}},\n",
       "             'Matrix': {'Sophia Stewart': {'weight': 1}},\n",
       "             'Sophia Stewart': {'Matrix': {'weight': 1}}})"
      ]
     },
     "execution_count": 16,
     "metadata": {},
     "output_type": "execute_result"
    }
   ],
   "source": [
    "# Generating coocurrence dict of dicts\n",
    "\n",
    "coocur_edges = coocurrence(*multi_ent_claims)\n",
    "coocur_edges"
   ]
  },
  {
   "cell_type": "code",
   "execution_count": 17,
   "metadata": {
    "_uuid": "815e97b03d5d50d7a9063fc5ab81b994276ae4b1"
   },
   "outputs": [
    {
     "data": {
      "text/plain": [
       "defaultdict(None,\n",
       "            {'Georgia': {'Muslim': {'weight': 2},\n",
       "              'U.S.': {'weight': 2},\n",
       "              'first': {'weight': 2}},\n",
       "             'Muslim': {'Georgia': {'weight': 2},\n",
       "              'U.S.': {'weight': 2},\n",
       "              'first': {'weight': 2}},\n",
       "             'U.S.': {'Georgia': {'weight': 2},\n",
       "              'Muslim': {'weight': 2},\n",
       "              'first': {'weight': 2}},\n",
       "             'first': {'Georgia': {'weight': 2},\n",
       "              'Muslim': {'weight': 2},\n",
       "              'U.S.': {'weight': 2}},\n",
       "             'Chevy': {'Suburban': {'weight': 1}},\n",
       "             'Suburban': {'Chevy': {'weight': 1}},\n",
       "             'Matrix': {'Sophia Stewart': {'weight': 1}},\n",
       "             'Sophia Stewart': {'Matrix': {'weight': 1}}})"
      ]
     },
     "execution_count": 17,
     "metadata": {},
     "output_type": "execute_result"
    }
   ],
   "source": [
    "# Filter out ents with <2 weight - refactored into a function later.\n",
    "# (Could also use: del coocur_edges[k1][k2] rather than make new dict)\n",
    "\n",
    "coocur_edges_filtered = defaultdict()\n",
    "\n",
    "for k1, e in coocur_edges.items():\n",
    "    ents_over_2_weight = {k2: v for k2, v in e.items() if v['weight'] >= 1}\n",
    "    if ents_over_2_weight:  # ie. Not empty\n",
    "        coocur_edges_filtered[k1] = ents_over_2_weight\n",
    "\n",
    "coocur_edges_filtered"
   ]
  },
  {
   "cell_type": "code",
   "execution_count": 18,
   "metadata": {
    "_uuid": "32043a3a14fbc3fdd2e89ab63c074b216ce0be57"
   },
   "outputs": [
    {
     "data": {
      "text/plain": [
       "[('Georgia', 6),\n",
       " ('Muslim', 6),\n",
       " ('U.S.', 6),\n",
       " ('first', 6),\n",
       " ('Chevy', 1),\n",
       " ('Suburban', 1),\n",
       " ('Matrix', 1),\n",
       " ('Sophia Stewart', 1)]"
      ]
     },
     "execution_count": 18,
     "metadata": {},
     "output_type": "execute_result"
    }
   ],
   "source": [
    "# Summing all coocurrences in order to see most coocurring edges\n",
    "\n",
    "coocur_sum = defaultdict(int)\n",
    "for k1, e in coocur_edges_filtered.items():\n",
    "    for k2, v in e.items():\n",
    "        coocur_sum[k1] += v['weight']\n",
    "\n",
    "sorted_coocur = sorted(coocur_sum.items(), key=operator.itemgetter(1), reverse=True)\n",
    "sorted_coocur"
   ]
  },
  {
   "cell_type": "code",
   "execution_count": 19,
   "metadata": {
    "_uuid": "eb4271f29db804c952a5706c5e805328f3d4b4d1"
   },
   "outputs": [],
   "source": [
    "# Making the list of claims\n",
    "claim_ents = []\n",
    "for doc in corpus:\n",
    "    string_ents = list(map(str, doc.ents))\n",
    "    claim_ents.append(string_ents)\n",
    "    \n",
    "    \n",
    "# Keeping only claims with multiple entities\n",
    "multi_ent_claims = [c for c in claim_ents if len(c)>1]\n",
    "# single_ent_claims = [c for c in claim_ents if len(c)==1]\n",
    "# no_ent_claims = [c for c in claim_ents if len(c)==0]\n",
    "\n",
    "\n",
    "# Creating the coocurrance dict\n",
    "coocur_edges = coocurrence(*multi_ent_claims)"
   ]
  },
  {
   "cell_type": "code",
   "execution_count": 20,
   "metadata": {
    "_uuid": "95d0b81d62720be094fc178b2e0dbf4416169ba4"
   },
   "outputs": [],
   "source": [
    "# Filter out ents with < min_weight - useful for graph clarity?\n",
    "\n",
    "def filter_ents_by_min_weight(edges, min_weight):\n",
    "    coocur_edges_filtered = defaultdict()\n",
    "    for k1, e in edges.items():\n",
    "        ents_over_x_weight = {k2: v for k2, v in e.items() if v['weight'] > min_weight}\n",
    "        if ents_over_x_weight:  # ie. Not empty\n",
    "            coocur_edges_filtered[k1] = ents_over_x_weight\n",
    "    return coocur_edges_filtered"
   ]
  },
  {
   "cell_type": "code",
   "execution_count": 21,
   "metadata": {
    "_uuid": "841708c3ba643dd4b46b183d1d77b242fd4e0794"
   },
   "outputs": [
    {
     "name": "stdout",
     "output_type": "stream",
     "text": [
      "Most frequent CO-ocurring entity:\n"
     ]
    },
    {
     "data": {
      "text/plain": [
       "[('Donald Trump', 169),\n",
       " ('Hillary Clinton', 107),\n",
       " ('Obama', 80),\n",
       " ('U.S.', 47),\n",
       " ('2016', 47),\n",
       " ('Republican', 24),\n",
       " ('first', 23),\n",
       " ('Trump', 22),\n",
       " ('American', 22),\n",
       " ('Bernie Sanders', 20),\n",
       " ('Muslims', 19),\n",
       " ('Russian', 16),\n",
       " ('Democratic', 16),\n",
       " ('Barack Obama', 15),\n",
       " ('Vladimir Putin', 15),\n",
       " ('Muslim', 14),\n",
       " ('Americans', 14),\n",
       " ('Washington', 12),\n",
       " ('Mike Pence', 11),\n",
       " ('Supreme Court', 11)]"
      ]
     },
     "execution_count": 21,
     "metadata": {},
     "output_type": "execute_result"
    }
   ],
   "source": [
    "# Looking at the most coocurring edges\n",
    "\n",
    "filtered_edges = filter_ents_by_min_weight(coocur_edges, 2)\n",
    "\n",
    "coocur_sum = defaultdict(int)\n",
    "for k1, e in filtered_edges.items():\n",
    "    for k2, v in e.items():\n",
    "        coocur_sum[k1] += v['weight']\n",
    "\n",
    "sorted_coocur = sorted(coocur_sum.items(), key=operator.itemgetter(1), reverse=True)\n",
    "print('Most frequent CO-ocurring entity:')\n",
    "sorted_coocur[:20]"
   ]
  }
 ],
 "metadata": {
  "kernelspec": {
   "display_name": "Python 3",
   "language": "python",
   "name": "python3"
  },
  "language_info": {
   "codemirror_mode": {
    "name": "ipython",
    "version": 3
   },
   "file_extension": ".py",
   "mimetype": "text/x-python",
   "name": "python",
   "nbconvert_exporter": "python",
   "pygments_lexer": "ipython3",
   "version": "3.6.4"
  }
 },
 "nbformat": 4,
 "nbformat_minor": 4
}
